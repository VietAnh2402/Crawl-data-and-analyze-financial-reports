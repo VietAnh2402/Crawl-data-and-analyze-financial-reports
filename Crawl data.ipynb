{
 "cells": [
  {
   "cell_type": "markdown",
   "id": "ce6acc01-beba-4fc0-94d8-c972eba6847f",
   "metadata": {},
   "source": [
    "# I. Cralw data từ cafef.vn"
   ]
  },
  {
   "cell_type": "markdown",
   "id": "aa3a09ed-afc2-49ff-9557-8d67f9d4957d",
   "metadata": {},
   "source": [
    "## 1. Cài đặt thư viện "
   ]
  },
  {
   "cell_type": "code",
   "execution_count": 1,
   "id": "4e4bdae7-25e7-41da-a8f9-64ce63d5f4b4",
   "metadata": {
    "scrolled": true
   },
   "outputs": [
    {
     "name": "stdout",
     "output_type": "stream",
     "text": [
      "Requirement already satisfied: selenium in c:\\users\\asus\\appdata\\local\\packages\\pythonsoftwarefoundation.python.3.11_qbz5n2kfra8p0\\localcache\\local-packages\\python311\\site-packages (4.15.2)\n",
      "Requirement already satisfied: urllib3<3,>=1.26 in c:\\users\\asus\\appdata\\local\\packages\\pythonsoftwarefoundation.python.3.11_qbz5n2kfra8p0\\localcache\\local-packages\\python311\\site-packages (from urllib3[socks]<3,>=1.26->selenium) (2.0.6)\n",
      "Requirement already satisfied: trio~=0.17 in c:\\users\\asus\\appdata\\local\\packages\\pythonsoftwarefoundation.python.3.11_qbz5n2kfra8p0\\localcache\\local-packages\\python311\\site-packages (from selenium) (0.23.1)\n",
      "Requirement already satisfied: trio-websocket~=0.9 in c:\\users\\asus\\appdata\\local\\packages\\pythonsoftwarefoundation.python.3.11_qbz5n2kfra8p0\\localcache\\local-packages\\python311\\site-packages (from selenium) (0.11.1)\n",
      "Requirement already satisfied: certifi>=2021.10.8 in c:\\users\\asus\\appdata\\local\\packages\\pythonsoftwarefoundation.python.3.11_qbz5n2kfra8p0\\localcache\\local-packages\\python311\\site-packages (from selenium) (2023.7.22)\n",
      "Requirement already satisfied: attrs>=20.1.0 in c:\\users\\asus\\appdata\\local\\packages\\pythonsoftwarefoundation.python.3.11_qbz5n2kfra8p0\\localcache\\local-packages\\python311\\site-packages (from trio~=0.17->selenium) (23.1.0)\n",
      "Requirement already satisfied: sortedcontainers in c:\\users\\asus\\appdata\\local\\packages\\pythonsoftwarefoundation.python.3.11_qbz5n2kfra8p0\\localcache\\local-packages\\python311\\site-packages (from trio~=0.17->selenium) (2.4.0)\n",
      "Requirement already satisfied: idna in c:\\users\\asus\\appdata\\local\\packages\\pythonsoftwarefoundation.python.3.11_qbz5n2kfra8p0\\localcache\\local-packages\\python311\\site-packages (from trio~=0.17->selenium) (3.4)\n",
      "Requirement already satisfied: outcome in c:\\users\\asus\\appdata\\local\\packages\\pythonsoftwarefoundation.python.3.11_qbz5n2kfra8p0\\localcache\\local-packages\\python311\\site-packages (from trio~=0.17->selenium) (1.3.0.post0)\n",
      "Requirement already satisfied: sniffio>=1.3.0 in c:\\users\\asus\\appdata\\local\\packages\\pythonsoftwarefoundation.python.3.11_qbz5n2kfra8p0\\localcache\\local-packages\\python311\\site-packages (from trio~=0.17->selenium) (1.3.0)\n",
      "Requirement already satisfied: cffi>=1.14 in c:\\users\\asus\\appdata\\local\\packages\\pythonsoftwarefoundation.python.3.11_qbz5n2kfra8p0\\localcache\\local-packages\\python311\\site-packages (from trio~=0.17->selenium) (1.16.0)\n",
      "Requirement already satisfied: wsproto>=0.14 in c:\\users\\asus\\appdata\\local\\packages\\pythonsoftwarefoundation.python.3.11_qbz5n2kfra8p0\\localcache\\local-packages\\python311\\site-packages (from trio-websocket~=0.9->selenium) (1.2.0)\n",
      "Requirement already satisfied: pysocks!=1.5.7,<2.0,>=1.5.6 in c:\\users\\asus\\appdata\\local\\packages\\pythonsoftwarefoundation.python.3.11_qbz5n2kfra8p0\\localcache\\local-packages\\python311\\site-packages (from urllib3[socks]<3,>=1.26->selenium) (1.7.1)\n",
      "Requirement already satisfied: pycparser in c:\\users\\asus\\appdata\\local\\packages\\pythonsoftwarefoundation.python.3.11_qbz5n2kfra8p0\\localcache\\local-packages\\python311\\site-packages (from cffi>=1.14->trio~=0.17->selenium) (2.21)\n",
      "Requirement already satisfied: h11<1,>=0.9.0 in c:\\users\\asus\\appdata\\local\\packages\\pythonsoftwarefoundation.python.3.11_qbz5n2kfra8p0\\localcache\\local-packages\\python311\\site-packages (from wsproto>=0.14->trio-websocket~=0.9->selenium) (0.14.0)\n",
      "Note: you may need to restart the kernel to use updated packages.\n"
     ]
    }
   ],
   "source": [
    "pip install selenium "
   ]
  },
  {
   "cell_type": "code",
   "execution_count": 2,
   "id": "bdb4b714-987f-4acc-8b37-93f72c480f9d",
   "metadata": {},
   "outputs": [
    {
     "name": "stdout",
     "output_type": "stream",
     "text": [
      "Requirement already satisfied: webdriver_manager in c:\\users\\asus\\appdata\\local\\packages\\pythonsoftwarefoundation.python.3.11_qbz5n2kfra8p0\\localcache\\local-packages\\python311\\site-packages (4.0.1)\n",
      "Requirement already satisfied: requests in c:\\users\\asus\\appdata\\local\\packages\\pythonsoftwarefoundation.python.3.11_qbz5n2kfra8p0\\localcache\\local-packages\\python311\\site-packages (from webdriver_manager) (2.31.0)\n",
      "Requirement already satisfied: python-dotenv in c:\\users\\asus\\appdata\\local\\packages\\pythonsoftwarefoundation.python.3.11_qbz5n2kfra8p0\\localcache\\local-packages\\python311\\site-packages (from webdriver_manager) (1.0.0)\n",
      "Requirement already satisfied: packaging in c:\\users\\asus\\appdata\\local\\packages\\pythonsoftwarefoundation.python.3.11_qbz5n2kfra8p0\\localcache\\local-packages\\python311\\site-packages (from webdriver_manager) (23.1)\n",
      "Requirement already satisfied: charset-normalizer<4,>=2 in c:\\users\\asus\\appdata\\local\\packages\\pythonsoftwarefoundation.python.3.11_qbz5n2kfra8p0\\localcache\\local-packages\\python311\\site-packages (from requests->webdriver_manager) (3.3.0)\n",
      "Requirement already satisfied: idna<4,>=2.5 in c:\\users\\asus\\appdata\\local\\packages\\pythonsoftwarefoundation.python.3.11_qbz5n2kfra8p0\\localcache\\local-packages\\python311\\site-packages (from requests->webdriver_manager) (3.4)\n",
      "Requirement already satisfied: urllib3<3,>=1.21.1 in c:\\users\\asus\\appdata\\local\\packages\\pythonsoftwarefoundation.python.3.11_qbz5n2kfra8p0\\localcache\\local-packages\\python311\\site-packages (from requests->webdriver_manager) (2.0.6)\n",
      "Requirement already satisfied: certifi>=2017.4.17 in c:\\users\\asus\\appdata\\local\\packages\\pythonsoftwarefoundation.python.3.11_qbz5n2kfra8p0\\localcache\\local-packages\\python311\\site-packages (from requests->webdriver_manager) (2023.7.22)\n",
      "Note: you may need to restart the kernel to use updated packages.\n"
     ]
    }
   ],
   "source": [
    "pip install webdriver_manager"
   ]
  },
  {
   "cell_type": "code",
   "execution_count": 3,
   "id": "356f1c13-6d3e-42f2-af12-a7b0f9cb6f39",
   "metadata": {},
   "outputs": [
    {
     "name": "stdout",
     "output_type": "stream",
     "text": [
      "Requirement already satisfied: pandas in c:\\users\\asus\\appdata\\local\\packages\\pythonsoftwarefoundation.python.3.11_qbz5n2kfra8p0\\localcache\\local-packages\\python311\\site-packages (2.1.1)\n",
      "Requirement already satisfied: numpy>=1.23.2 in c:\\users\\asus\\appdata\\local\\packages\\pythonsoftwarefoundation.python.3.11_qbz5n2kfra8p0\\localcache\\local-packages\\python311\\site-packages (from pandas) (1.25.2)\n",
      "Requirement already satisfied: python-dateutil>=2.8.2 in c:\\users\\asus\\appdata\\local\\packages\\pythonsoftwarefoundation.python.3.11_qbz5n2kfra8p0\\localcache\\local-packages\\python311\\site-packages (from pandas) (2.8.2)\n",
      "Requirement already satisfied: pytz>=2020.1 in c:\\users\\asus\\appdata\\local\\packages\\pythonsoftwarefoundation.python.3.11_qbz5n2kfra8p0\\localcache\\local-packages\\python311\\site-packages (from pandas) (2023.3.post1)\n",
      "Requirement already satisfied: tzdata>=2022.1 in c:\\users\\asus\\appdata\\local\\packages\\pythonsoftwarefoundation.python.3.11_qbz5n2kfra8p0\\localcache\\local-packages\\python311\\site-packages (from pandas) (2023.3)\n",
      "Requirement already satisfied: six>=1.5 in c:\\users\\asus\\appdata\\local\\packages\\pythonsoftwarefoundation.python.3.11_qbz5n2kfra8p0\\localcache\\local-packages\\python311\\site-packages (from python-dateutil>=2.8.2->pandas) (1.16.0)\n",
      "Note: you may need to restart the kernel to use updated packages.\n"
     ]
    }
   ],
   "source": [
    "pip install pandas"
   ]
  },
  {
   "cell_type": "code",
   "execution_count": 4,
   "id": "ac07d50e-6789-40f3-81c0-28077d2e456c",
   "metadata": {},
   "outputs": [
    {
     "name": "stdout",
     "output_type": "stream",
     "text": [
      "Requirement already satisfied: xlsxwriter in c:\\users\\asus\\appdata\\local\\packages\\pythonsoftwarefoundation.python.3.11_qbz5n2kfra8p0\\localcache\\local-packages\\python311\\site-packages (3.1.9)\n",
      "Note: you may need to restart the kernel to use updated packages.\n"
     ]
    }
   ],
   "source": [
    "pip install xlsxwriter"
   ]
  },
  {
   "cell_type": "code",
   "execution_count": 6,
   "id": "228c5c1d-31d8-49b0-8670-6eb1822b6b13",
   "metadata": {},
   "outputs": [],
   "source": [
    "from selenium import webdriver\n",
    "\n",
    "from selenium.webdriver.chrome.service import Service as ChromeService\n",
    "from webdriver_manager.chrome import ChromeDriverManager\n",
    "\n",
    "from selenium.webdriver.firefox.service import Service as FirefoxService\n",
    "from webdriver_manager.firefox import GeckoDriverManager\n",
    "\n",
    "from selenium.webdriver.chrome.options import Options as ChromeOptions\n",
    "from selenium.webdriver.common.by import By\n",
    "import pandas as pd\n",
    "\n",
    "import os\n"
   ]
  },
  {
   "cell_type": "markdown",
   "id": "3a4c671a-957f-4596-baf8-1bdbe8bf7940",
   "metadata": {},
   "source": [
    "## 2. Load web driver"
   ]
  },
  {
   "cell_type": "markdown",
   "id": "5f15d156-8d88-4f3d-98d7-564bbf7ff3f0",
   "metadata": {},
   "source": [
    "Sử dụng Chrome"
   ]
  },
  {
   "cell_type": "markdown",
   "id": "84320f50-819e-4a05-a6d8-3bca7e242791",
   "metadata": {},
   "source": [
    "### 2.1. Load driver thủ công"
   ]
  },
  {
   "cell_type": "code",
   "execution_count": 7,
   "id": "4f5eb191-a464-41e1-a2fd-e80b280dad65",
   "metadata": {},
   "outputs": [],
   "source": [
    "service = ChromeService(executable_path=r\"C:\\Web-driver\\chromedriver.exe\")\n",
    "driver_manual = webdriver.Chrome(service=service)\n",
    "driver_manual.get(\"https://s.cafef.vn/bao-cao-tai-chinh/hpg/bsheet/2023/4/0/0/bao-cao-tai-chinh-.chn\")"
   ]
  },
  {
   "cell_type": "markdown",
   "id": "a1a2e242-92b9-4da6-bb5c-93ee1e701134",
   "metadata": {},
   "source": [
    "### 2.2. Load driver bằng Driver Manager"
   ]
  },
  {
   "cell_type": "code",
   "execution_count": 8,
   "id": "3608091b-eee8-4f78-ba6a-a4a49a13eb20",
   "metadata": {},
   "outputs": [
    {
     "name": "stdout",
     "output_type": "stream",
     "text": [
      "C:\\Users\\ASUS\\.wdm\\drivers\\chromedriver\\win64\\120.0.6099.71\\chromedriver-win32/chromedriver.exe\n"
     ]
    }
   ],
   "source": [
    "service = ChromeService(ChromeDriverManager().install())\n",
    "chrome_options = ChromeOptions()\n",
    "chrome_options.add_argument(\"--headless=new\")\n",
    "driver_auto = webdriver.Chrome(service=service, options=chrome_options)\n",
    "print(driver_auto.service.path)\n",
    "driver_auto.get(\"https://s.cafef.vn/bao-cao-tai-chinh/dig/bsheet/2023/0/0/0/bao-cao-tai-chinh-.chn\")"
   ]
  },
  {
   "cell_type": "markdown",
   "id": "292f67ee-0484-4fd2-9b30-422b81387372",
   "metadata": {},
   "source": [
    "## 3. Cralw dữ liệu"
   ]
  },
  {
   "cell_type": "markdown",
   "id": "9734f2d1-09fa-46d9-8918-2bb38e7860a1",
   "metadata": {},
   "source": [
    "### Define các functions"
   ]
  },
  {
   "cell_type": "code",
   "execution_count": 9,
   "id": "f2c873ac-3fda-4c92-8434-f248f32355ad",
   "metadata": {},
   "outputs": [],
   "source": [
    "def get_elements_value(items, convert_numeric=True):\n",
    "    _ls = []\n",
    "    if convert_numeric == False:\n",
    "        for x in items:\n",
    "            _ls.append(x.text)\n",
    "    else:\n",
    "        for x in items:\n",
    "            num = x.text.strip().replace(',','')\n",
    "            if num.isnumeric():\n",
    "                _ls.append(int(num))\n",
    "            else:\n",
    "                _ls.append(num)\n",
    "    return _ls\n",
    "\n",
    "def year_col_process(driver,col): \n",
    "    x_path = f\"//*[@id='tableContent']/tbody/tr/td[{col}]\"\n",
    "    rows = driver.find_elements(By.XPATH, x_path)\n",
    "    return rows\n",
    "\n",
    "def get_report_url(ticker, year, report_type):\n",
    "    if report_type.upper() == 'BS':\n",
    "        return f\"https://s.cafef.vn/bao-cao-tai-chinh/{ticker}/bsheet/{year}/0/0/0/bao-cao-tai-chinh-.chn\"\n",
    "    if report_type.upper() == 'IS':\n",
    "        return f\"https://s.cafef.vn/bao-cao-tai-chinh/{ticker}/incsta/{year}/0/0/0/ket-qua-hoat-dong-kinh-doanh-.chn\"\n",
    "    if report_type.upper() == 'CF':\n",
    "        return f\"https://s.cafef.vn/bao-cao-tai-chinh/{ticker}/cashflow/{year}/0/0/0/luu-chuyen-tien-te-gian-tiep-.chn\"\n",
    "\n",
    "    return \"\"\n",
    "\n",
    "def get_excel_data(driver, ticker, from_year, to_year, report_type):\n",
    "    year = to_year \n",
    "    data = {}\n",
    "    criteria_names = {}\n",
    "    runable = True\n",
    "    while(runable):\n",
    "        url = get_report_url(ticker, year, report_type)\n",
    "        print(url)\n",
    "        driver.get(url)\n",
    "        driver.implicitly_wait(5)\n",
    "        \n",
    "    \n",
    "        if 'criteria' not in criteria_names:\n",
    "            name_elements = year_col_process(driver, 1)\n",
    "            criteria_names['criteria'] = get_elements_value(name_elements, False)\n",
    "        \n",
    "    \n",
    "        year_elements = driver.find_elements(By.XPATH, \"//*[@id='tblGridData']/tbody/tr/td\")\n",
    "        index_cols = {}\n",
    "        i = 1\n",
    "        for item in year_elements:\n",
    "            str_item = item.text.strip()\n",
    "            if str_item.isnumeric():\n",
    "                index_cols[str_item] = i\n",
    "            i += 1\n",
    "\n",
    "        \n",
    "        index_cols = dict(sorted(index_cols.items(), reverse=True))\n",
    "    \n",
    "        y = 0\n",
    "        for key in index_cols:\n",
    "            col = index_cols[key]\n",
    "            items = year_col_process(driver, col)\n",
    "            data[key] = get_elements_value(items)\n",
    "            print(key)\n",
    "            \n",
    "            y = int(key)\n",
    "            if y == from_year:\n",
    "                runable = False\n",
    "                break \n",
    "    \n",
    "        if runable == True:\n",
    "            year = y - 1\n",
    "    \n",
    "    \n",
    "    data = dict(sorted(data.items()))  # Short dict\n",
    "    data = criteria_names | data # Merge two dicts into one\n",
    "    df = pd.DataFrame(data)\n",
    "    \n",
    "    save_as = f\"{ticker}_{report_type}.xlsx\"\n",
    "    writer = pd.ExcelWriter(save_as,\n",
    "                            engine= 'xlsxwriter',\n",
    "                            engine_kwargs={'options': {'strings_to_numbers':True}})\n",
    "    df.to_excel(writer, sheet_name=report_type, index=False)\n",
    "    writer.close() \n",
    "\n",
    "    return 1"
   ]
  },
  {
   "cell_type": "code",
   "execution_count": 10,
   "id": "4236ac1e-d599-41fb-9b32-80836a9bc2f7",
   "metadata": {},
   "outputs": [
    {
     "name": "stdout",
     "output_type": "stream",
     "text": [
      "C:\\Users\\ASUS\\.wdm\\drivers\\chromedriver\\win64\\120.0.6099.71\\chromedriver-win32/chromedriver.exe\n",
      "https://s.cafef.vn/bao-cao-tai-chinh/DIG/bsheet/2023/0/0/0/bao-cao-tai-chinh-.chn\n",
      "2023\n",
      "2022\n",
      "2021\n",
      "2020\n",
      "https://s.cafef.vn/bao-cao-tai-chinh/DIG/bsheet/2019/0/0/0/bao-cao-tai-chinh-.chn\n",
      "2019\n",
      "2018\n",
      "2017\n",
      "2016\n",
      "https://s.cafef.vn/bao-cao-tai-chinh/DIG/bsheet/2015/0/0/0/bao-cao-tai-chinh-.chn\n",
      "2015\n",
      "2014\n",
      "2013\n",
      "https://s.cafef.vn/bao-cao-tai-chinh/DIG/incsta/2023/0/0/0/ket-qua-hoat-dong-kinh-doanh-.chn\n",
      "2023\n",
      "2022\n",
      "2021\n",
      "2020\n",
      "https://s.cafef.vn/bao-cao-tai-chinh/DIG/incsta/2019/0/0/0/ket-qua-hoat-dong-kinh-doanh-.chn\n",
      "2019\n",
      "2018\n",
      "2017\n",
      "2016\n",
      "https://s.cafef.vn/bao-cao-tai-chinh/DIG/incsta/2015/0/0/0/ket-qua-hoat-dong-kinh-doanh-.chn\n",
      "2015\n",
      "2014\n",
      "2013\n",
      "https://s.cafef.vn/bao-cao-tai-chinh/DIG/cashflow/2023/0/0/0/luu-chuyen-tien-te-gian-tiep-.chn\n",
      "2023\n",
      "2022\n",
      "2021\n",
      "2020\n",
      "https://s.cafef.vn/bao-cao-tai-chinh/DIG/cashflow/2019/0/0/0/luu-chuyen-tien-te-gian-tiep-.chn\n",
      "2019\n",
      "2018\n",
      "2017\n",
      "2016\n",
      "https://s.cafef.vn/bao-cao-tai-chinh/DIG/cashflow/2015/0/0/0/luu-chuyen-tien-te-gian-tiep-.chn\n",
      "2015\n",
      "2014\n",
      "2013\n"
     ]
    }
   ],
   "source": [
    "service = ChromeService(ChromeDriverManager().install())\n",
    "chrome_options = ChromeOptions()\n",
    "chrome_options.add_argument(\"--headless=new\")\n",
    "driver_auto = webdriver.Chrome(service=service, options=chrome_options)\n",
    "print(driver_auto.service.path)\n",
    "\n",
    "TICKER = 'DIG'\n",
    "TO_YEAR = 2023\n",
    "LOOK_BACK = 11\n",
    "FROM_YEAR = TO_YEAR - LOOK_BACK + 1\n",
    "\n",
    "report_types = ['BS', 'IS', 'CF']\n",
    "for report in report_types:\n",
    "    get_excel_data(driver_auto, TICKER, FROM_YEAR, TO_YEAR, report)\n",
    "    \n",
    "driver_auto.quit()\n",
    "os.startfile(os.getcwd())"
   ]
  },
  {
   "cell_type": "code",
   "execution_count": null,
   "id": "13599554-940e-46a5-afeb-020495c672c6",
   "metadata": {},
   "outputs": [],
   "source": []
  },
  {
   "cell_type": "code",
   "execution_count": null,
   "id": "9a5b3676-d163-4e37-b5a8-058b07200b6b",
   "metadata": {},
   "outputs": [],
   "source": []
  },
  {
   "cell_type": "code",
   "execution_count": null,
   "id": "a489c332-a012-4bb1-a4e3-59ba690a6ad5",
   "metadata": {},
   "outputs": [],
   "source": []
  },
  {
   "cell_type": "code",
   "execution_count": null,
   "id": "315c9820-a339-4b30-a201-f206d2d1e5c9",
   "metadata": {},
   "outputs": [],
   "source": []
  },
  {
   "cell_type": "code",
   "execution_count": null,
   "id": "e9b50a86-61d4-4b0a-b2ac-5cd1f4031954",
   "metadata": {},
   "outputs": [],
   "source": []
  },
  {
   "cell_type": "code",
   "execution_count": null,
   "id": "91859c15-9c1d-45ac-8ad7-7246a03fd5b8",
   "metadata": {},
   "outputs": [],
   "source": []
  },
  {
   "cell_type": "code",
   "execution_count": null,
   "id": "c7adff9a-f3e4-4e10-9a09-db62257b400d",
   "metadata": {},
   "outputs": [],
   "source": []
  },
  {
   "cell_type": "code",
   "execution_count": null,
   "id": "b67da91a-811a-4365-8719-d6e922dbc58b",
   "metadata": {},
   "outputs": [],
   "source": []
  },
  {
   "cell_type": "code",
   "execution_count": null,
   "id": "45a352a2-03be-4a93-98ec-3bf1ae5a9971",
   "metadata": {},
   "outputs": [],
   "source": []
  },
  {
   "cell_type": "code",
   "execution_count": null,
   "id": "8fedfaa2-6afc-4ef8-b0dc-0f0b9f976181",
   "metadata": {},
   "outputs": [],
   "source": []
  },
  {
   "cell_type": "code",
   "execution_count": null,
   "id": "885ca132-178e-486f-b059-6b98d2900747",
   "metadata": {},
   "outputs": [],
   "source": []
  },
  {
   "cell_type": "code",
   "execution_count": null,
   "id": "dee6242a-130c-4f25-b525-5a4f76120070",
   "metadata": {},
   "outputs": [],
   "source": []
  },
  {
   "cell_type": "code",
   "execution_count": null,
   "id": "7b7b5a48-ec88-48a6-8390-9b690acda584",
   "metadata": {},
   "outputs": [],
   "source": []
  },
  {
   "cell_type": "code",
   "execution_count": null,
   "id": "020cb2eb-3af6-404d-bb37-cbf79c62ec2e",
   "metadata": {},
   "outputs": [],
   "source": []
  },
  {
   "cell_type": "code",
   "execution_count": null,
   "id": "41119f0c-6ff7-49b2-a723-e9405fb7da3a",
   "metadata": {},
   "outputs": [],
   "source": []
  },
  {
   "cell_type": "code",
   "execution_count": null,
   "id": "01ecbb8a-637d-4969-a362-5713e906029e",
   "metadata": {},
   "outputs": [],
   "source": []
  },
  {
   "cell_type": "code",
   "execution_count": null,
   "id": "875f3964-5924-4a41-afc5-0ca56fb9ea7f",
   "metadata": {},
   "outputs": [],
   "source": []
  },
  {
   "cell_type": "code",
   "execution_count": null,
   "id": "3001f215-fd61-4e1b-8cac-951fb6aca594",
   "metadata": {},
   "outputs": [],
   "source": []
  },
  {
   "cell_type": "code",
   "execution_count": null,
   "id": "f6ac050e-f4d4-44ec-a9d3-42129707afe1",
   "metadata": {},
   "outputs": [],
   "source": []
  },
  {
   "cell_type": "code",
   "execution_count": null,
   "id": "486828f9-f7f6-48ab-8389-7066b92cc2f6",
   "metadata": {},
   "outputs": [],
   "source": []
  },
  {
   "cell_type": "code",
   "execution_count": null,
   "id": "4412c713-bccc-4ba2-bc6d-047c7af7b717",
   "metadata": {},
   "outputs": [],
   "source": []
  },
  {
   "cell_type": "code",
   "execution_count": null,
   "id": "104ba252-1eac-45f0-bbed-89d90197c405",
   "metadata": {},
   "outputs": [],
   "source": []
  }
 ],
 "metadata": {
  "kernelspec": {
   "display_name": "Python 3 (ipykernel)",
   "language": "python",
   "name": "python3"
  },
  "language_info": {
   "codemirror_mode": {
    "name": "ipython",
    "version": 3
   },
   "file_extension": ".py",
   "mimetype": "text/x-python",
   "name": "python",
   "nbconvert_exporter": "python",
   "pygments_lexer": "ipython3",
   "version": "3.11.7"
  }
 },
 "nbformat": 4,
 "nbformat_minor": 5
}
